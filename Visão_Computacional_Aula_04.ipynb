{
  "nbformat": 4,
  "nbformat_minor": 2,
  "metadata": {
    "colab": {
      "name": "Visão_Computacional_Aula_04.ipynb",
      "provenance": [],
      "collapsed_sections": [],
      "include_colab_link": true
    },
    "kernelspec": {
      "name": "python3",
      "display_name": "Python 3.9.7 64-bit"
    },
    "language_info": {
      "name": "python",
      "version": "3.9.7",
      "mimetype": "text/x-python",
      "codemirror_mode": {
        "name": "ipython",
        "version": 3
      },
      "pygments_lexer": "ipython3",
      "nbconvert_exporter": "python",
      "file_extension": ".py"
    },
    "interpreter": {
      "hash": "aee8b7b246df8f9039afb4144a1f6fd8d2ca17a180786b69acc140d282b71a49"
    }
  },
  "cells": [
    {
      "cell_type": "markdown",
      "source": [
        "<a href=\"https://colab.research.google.com/github/lucianosilva-github/visaocomputacional/blob/master/Aula%2004/Visa%CC%83o_Computacional_Aula_04.ipynb\" target=\"_parent\"><img src=\"https://colab.research.google.com/assets/colab-badge.svg\" alt=\"Open In Colab\"/></a>"
      ],
      "metadata": {
        "id": "view-in-github",
        "colab_type": "text"
      }
    },
    {
      "cell_type": "markdown",
      "source": [
        "## **VISÃO COMPUTACIONAL - AULA 04**\n",
        "\n",
        "**Objetivos da aula:**\n",
        "\n",
        "*   conhecer o software G6-iris-recognition\n",
        "*   praticar com o software G6-iris-recognition\n",
        "*   especificar a competição de reconhecimento de íris dentro do curso\n",
        "\n",
        "\n",
        "\n",
        "\n",
        "\n",
        "\n",
        "\n"
      ],
      "metadata": {
        "id": "nxY7Hh85nCjZ"
      }
    },
    {
      "cell_type": "markdown",
      "source": [
        "**Instalação do Módulo G6 (Gate 6)**\n",
        "\n",
        "Documentação do Módulo G6: https://pypi.org/project/G6-iris-recognition/ \n",
        "\n",
        "Para instalar o módulo de reconhecimento de íris G6, seguir os passos abaixo:\n",
        "\n",
        "1. Atualizar o módulo scikit-image do Google Colab:"
      ],
      "metadata": {
        "id": "lcnbn_ynorRn"
      }
    },
    {
      "cell_type": "code",
      "execution_count": 7,
      "source": [
        "!pip3 install scikit-image --upgrade"
      ],
      "outputs": [
        {
          "output_type": "stream",
          "name": "stdout",
          "text": [
            "\u001b[33mDEPRECATION: Configuring installation scheme with distutils config files is deprecated and will no longer work in the near future. If you are using a Homebrew or Linuxbrew Python, please see discussion at https://github.com/Homebrew/homebrew-core/issues/76621\u001b[0m\n",
            "Requirement already satisfied: scikit-image in /usr/local/lib/python3.9/site-packages (0.18.3)\n",
            "Requirement already satisfied: matplotlib!=3.0.0,>=2.0.0 in /usr/local/lib/python3.9/site-packages (from scikit-image) (3.4.3)\n",
            "Requirement already satisfied: PyWavelets>=1.1.1 in /usr/local/lib/python3.9/site-packages (from scikit-image) (1.1.1)\n",
            "Requirement already satisfied: imageio>=2.3.0 in /usr/local/lib/python3.9/site-packages (from scikit-image) (2.9.0)\n",
            "Requirement already satisfied: tifffile>=2019.7.26 in /usr/local/lib/python3.9/site-packages (from scikit-image) (2021.8.30)\n",
            "Requirement already satisfied: pillow!=7.1.0,!=7.1.1,>=4.3.0 in /usr/local/lib/python3.9/site-packages (from scikit-image) (8.3.2)\n",
            "Requirement already satisfied: numpy>=1.16.5 in /usr/local/lib/python3.9/site-packages (from scikit-image) (1.21.2)\n",
            "Requirement already satisfied: scipy>=1.0.1 in /usr/local/lib/python3.9/site-packages (from scikit-image) (1.7.1)\n",
            "Requirement already satisfied: networkx>=2.0 in /usr/local/lib/python3.9/site-packages (from scikit-image) (2.6.3)\n",
            "Requirement already satisfied: python-dateutil>=2.7 in /usr/local/lib/python3.9/site-packages (from matplotlib!=3.0.0,>=2.0.0->scikit-image) (2.8.2)\n",
            "Requirement already satisfied: pyparsing>=2.2.1 in /usr/local/lib/python3.9/site-packages (from matplotlib!=3.0.0,>=2.0.0->scikit-image) (2.4.7)\n",
            "Requirement already satisfied: cycler>=0.10 in /usr/local/lib/python3.9/site-packages (from matplotlib!=3.0.0,>=2.0.0->scikit-image) (0.10.0)\n",
            "Requirement already satisfied: kiwisolver>=1.0.1 in /usr/local/lib/python3.9/site-packages (from matplotlib!=3.0.0,>=2.0.0->scikit-image) (1.3.2)\n",
            "Requirement already satisfied: six in /usr/local/lib/python3.9/site-packages (from cycler>=0.10->matplotlib!=3.0.0,>=2.0.0->scikit-image) (1.16.0)\n"
          ]
        }
      ],
      "metadata": {
        "id": "7GwUochDyKk-"
      }
    },
    {
      "cell_type": "markdown",
      "source": [
        "   2. Fazer um clone do módulo G6 Iris Recognition do repositório abaixo:"
      ],
      "metadata": {
        "id": "zTCiXsAqyNxV"
      }
    },
    {
      "cell_type": "code",
      "execution_count": null,
      "source": [
        "!git clone https://github.com/lucianosilva-github/G6_iris_recognition.git"
      ],
      "outputs": [],
      "metadata": {
        "id": "OedhTHPUyZBS"
      }
    },
    {
      "cell_type": "markdown",
      "source": [
        "   3. Fazer um clone do banco de imagens de iris:"
      ],
      "metadata": {
        "id": "3lgxvMV99ynt"
      }
    },
    {
      "cell_type": "code",
      "execution_count": null,
      "source": [
        "!git clone https://github.com/lucianosilva-github/images-tutorial.git"
      ],
      "outputs": [],
      "metadata": {
        "id": "qtiGBXZq93yC"
      }
    },
    {
      "cell_type": "markdown",
      "source": [
        "   4. Criar o arquivo vazio model.pickle \n",
        "  "
      ],
      "metadata": {
        "id": "QRkYiS_t9J8E"
      }
    },
    {
      "cell_type": "markdown",
      "source": [
        "**Uso do Módulo G6 (Gate 6)**\n",
        "\n",
        "Existem três passos para uso do módulo de reconhecimento de íris G6:\n",
        "\n",
        "1.   **Criação do arquivo vazio de modelo de reconhecimento** (model.pickle), que será preenchido pelo módulo G6. \n",
        "\n",
        "2.   **Construção de um modelo de reconhecimento** (model.pickle), tendo como base um banco de dados de imagens. Este banco deve ser organizado dentro de uma pasta (images-tutorial, no nosso exemplo) e, o conjunto de íris de cada pessoa, deve estar dentro de uma pasta. Por exemplo, images-tutorial/0002 irá indicar o conjunto de íris da pessoa 0002.\n",
        "3.   **Uso do modelo de reconhecimento** (model.pickle), onde colocamos a imagem que queremos reconhecer. No exemplo abaixo, estamos tentando reconhecer a íris da primeira pessoa, através do arquivo images-tutorial/0002/0002_000.bmp.\n",
        "\n",
        "\n",
        "\n",
        "\n"
      ],
      "metadata": {
        "id": "nvi_ksCho9_f"
      }
    },
    {
      "cell_type": "code",
      "execution_count": 10,
      "source": [
        "import G6_iris_recognition\n",
        "G6_iris_recognition.iris_model_train(\"images-tutorial\",\"model.pickle\")"
      ],
      "outputs": [
        {
          "output_type": "error",
          "ename": "ModuleNotFoundError",
          "evalue": "No module named 'cv2'",
          "traceback": [
            "\u001b[0;31m---------------------------------------------------------------------------\u001b[0m",
            "\u001b[0;31mModuleNotFoundError\u001b[0m                       Traceback (most recent call last)",
            "\u001b[0;32m/var/folders/3d/hk8y3y2s0lj0cmp31cr9s6xh0000gn/T/ipykernel_2565/1956565387.py\u001b[0m in \u001b[0;36m<module>\u001b[0;34m\u001b[0m\n\u001b[0;32m----> 1\u001b[0;31m \u001b[0;32mimport\u001b[0m \u001b[0mG6_iris_recognition\u001b[0m\u001b[0;34m\u001b[0m\u001b[0;34m\u001b[0m\u001b[0m\n\u001b[0m\u001b[1;32m      2\u001b[0m \u001b[0mG6_iris_recognition\u001b[0m\u001b[0;34m.\u001b[0m\u001b[0miris_model_train\u001b[0m\u001b[0;34m(\u001b[0m\u001b[0;34m\"images-tutorial\"\u001b[0m\u001b[0;34m,\u001b[0m\u001b[0;34m\"model.pickle\"\u001b[0m\u001b[0;34m)\u001b[0m\u001b[0;34m\u001b[0m\u001b[0;34m\u001b[0m\u001b[0m\n",
            "\u001b[0;32m~/Desktop/Luiza/Visao/APS/G6_iris_recognition/__init__.py\u001b[0m in \u001b[0;36m<module>\u001b[0;34m\u001b[0m\n\u001b[1;32m      3\u001b[0m \u001b[0;34m\u001b[0m\u001b[0m\n\u001b[1;32m      4\u001b[0m \u001b[0;34m\u001b[0m\u001b[0m\n\u001b[0;32m----> 5\u001b[0;31m from G6_iris_recognition import (\n\u001b[0m\u001b[1;32m      6\u001b[0m     \u001b[0mmain\u001b[0m\u001b[0;34m,\u001b[0m\u001b[0;34m\u001b[0m\u001b[0;34m\u001b[0m\u001b[0m\n\u001b[1;32m      7\u001b[0m     \u001b[0mencode_iris_model\u001b[0m\u001b[0;34m,\u001b[0m\u001b[0;34m\u001b[0m\u001b[0;34m\u001b[0m\u001b[0m\n",
            "\u001b[0;32m~/Desktop/Luiza/Visao/APS/G6_iris_recognition/main.py\u001b[0m in \u001b[0;36m<module>\u001b[0;34m\u001b[0m\n\u001b[0;32m----> 1\u001b[0;31m \u001b[0;32mfrom\u001b[0m \u001b[0mG6_iris_recognition\u001b[0m\u001b[0;34m.\u001b[0m\u001b[0miris_matching\u001b[0m \u001b[0;32mimport\u001b[0m \u001b[0;34m*\u001b[0m\u001b[0;34m\u001b[0m\u001b[0;34m\u001b[0m\u001b[0m\n\u001b[0m\u001b[1;32m      2\u001b[0m \u001b[0;32mfrom\u001b[0m \u001b[0mG6_iris_recognition\u001b[0m\u001b[0;34m.\u001b[0m\u001b[0mencode_iris_model\u001b[0m \u001b[0;32mimport\u001b[0m \u001b[0;34m*\u001b[0m\u001b[0;34m\u001b[0m\u001b[0;34m\u001b[0m\u001b[0m\n\u001b[1;32m      3\u001b[0m \u001b[0;32mfrom\u001b[0m \u001b[0mG6_iris_recognition\u001b[0m\u001b[0;34m.\u001b[0m\u001b[0mfeature_vec\u001b[0m \u001b[0;32mimport\u001b[0m \u001b[0;34m*\u001b[0m\u001b[0;34m\u001b[0m\u001b[0;34m\u001b[0m\u001b[0m\n\u001b[1;32m      4\u001b[0m \u001b[0;32mimport\u001b[0m \u001b[0mos\u001b[0m\u001b[0;34m\u001b[0m\u001b[0;34m\u001b[0m\u001b[0m\n\u001b[1;32m      5\u001b[0m \u001b[0;32mimport\u001b[0m \u001b[0msys\u001b[0m\u001b[0;34m\u001b[0m\u001b[0;34m\u001b[0m\u001b[0m\n",
            "\u001b[0;32m~/Desktop/Luiza/Visao/APS/G6_iris_recognition/iris_matching.py\u001b[0m in \u001b[0;36m<module>\u001b[0;34m\u001b[0m\n\u001b[1;32m      1\u001b[0m \u001b[0;32mimport\u001b[0m \u001b[0mos\u001b[0m\u001b[0;34m\u001b[0m\u001b[0;34m\u001b[0m\u001b[0m\n\u001b[0;32m----> 2\u001b[0;31m \u001b[0;32mfrom\u001b[0m \u001b[0mG6_iris_recognition\u001b[0m\u001b[0;34m.\u001b[0m\u001b[0mfeature_vec\u001b[0m \u001b[0;32mimport\u001b[0m \u001b[0;34m*\u001b[0m\u001b[0;34m\u001b[0m\u001b[0;34m\u001b[0m\u001b[0m\n\u001b[0m\u001b[1;32m      3\u001b[0m \u001b[0;32mimport\u001b[0m  \u001b[0mpickle\u001b[0m\u001b[0;34m,\u001b[0m \u001b[0mnumpy\u001b[0m \u001b[0;32mas\u001b[0m \u001b[0mnp\u001b[0m\u001b[0;34m,\u001b[0m \u001b[0mre\u001b[0m\u001b[0;34m\u001b[0m\u001b[0;34m\u001b[0m\u001b[0m\n\u001b[1;32m      4\u001b[0m \u001b[0;34m\u001b[0m\u001b[0m\n\u001b[1;32m      5\u001b[0m \u001b[0;32mimport\u001b[0m \u001b[0mthreading\u001b[0m\u001b[0;34m\u001b[0m\u001b[0;34m\u001b[0m\u001b[0m\n",
            "\u001b[0;32m~/Desktop/Luiza/Visao/APS/G6_iris_recognition/feature_vec.py\u001b[0m in \u001b[0;36m<module>\u001b[0;34m\u001b[0m\n\u001b[0;32m----> 1\u001b[0;31m \u001b[0;32mfrom\u001b[0m \u001b[0mG6_iris_recognition\u001b[0m\u001b[0;34m.\u001b[0m\u001b[0mrectangulate\u001b[0m \u001b[0;32mimport\u001b[0m \u001b[0;34m*\u001b[0m\u001b[0;34m\u001b[0m\u001b[0;34m\u001b[0m\u001b[0m\n\u001b[0m\u001b[1;32m      2\u001b[0m \u001b[0;32mfrom\u001b[0m \u001b[0mnumpy\u001b[0m \u001b[0;32mimport\u001b[0m \u001b[0mzeros\u001b[0m\u001b[0;34m\u001b[0m\u001b[0;34m\u001b[0m\u001b[0m\n\u001b[1;32m      3\u001b[0m \u001b[0;34m\u001b[0m\u001b[0m\n\u001b[1;32m      4\u001b[0m \u001b[0;34m\u001b[0m\u001b[0m\n\u001b[1;32m      5\u001b[0m \u001b[0;34m\u001b[0m\u001b[0m\n",
            "\u001b[0;32m~/Desktop/Luiza/Visao/APS/G6_iris_recognition/rectangulate.py\u001b[0m in \u001b[0;36m<module>\u001b[0;34m\u001b[0m\n\u001b[1;32m      1\u001b[0m \u001b[0;32mfrom\u001b[0m \u001b[0mG6_iris_recognition\u001b[0m\u001b[0;34m.\u001b[0m\u001b[0mlocate2\u001b[0m \u001b[0;32mimport\u001b[0m \u001b[0;34m*\u001b[0m\u001b[0;34m\u001b[0m\u001b[0;34m\u001b[0m\u001b[0m\n\u001b[0;32m----> 2\u001b[0;31m \u001b[0;32mfrom\u001b[0m \u001b[0mG6_iris_recognition\u001b[0m\u001b[0;34m.\u001b[0m\u001b[0mcircle_iris_operation\u001b[0m \u001b[0;32mimport\u001b[0m \u001b[0;34m*\u001b[0m\u001b[0;34m\u001b[0m\u001b[0;34m\u001b[0m\u001b[0m\n\u001b[0m\u001b[1;32m      3\u001b[0m \u001b[0;32mfrom\u001b[0m \u001b[0mmath\u001b[0m \u001b[0;32mimport\u001b[0m \u001b[0msin\u001b[0m\u001b[0;34m,\u001b[0m \u001b[0mcos\u001b[0m\u001b[0;34m,\u001b[0m \u001b[0mradians\u001b[0m\u001b[0;34m\u001b[0m\u001b[0;34m\u001b[0m\u001b[0m\n\u001b[1;32m      4\u001b[0m \u001b[0;34m\u001b[0m\u001b[0m\n\u001b[1;32m      5\u001b[0m \u001b[0;32mdef\u001b[0m \u001b[0mrectangle\u001b[0m\u001b[0;34m(\u001b[0m\u001b[0mfname\u001b[0m\u001b[0;34m)\u001b[0m\u001b[0;34m:\u001b[0m\u001b[0;34m\u001b[0m\u001b[0;34m\u001b[0m\u001b[0m\n",
            "\u001b[0;32m~/Desktop/Luiza/Visao/APS/G6_iris_recognition/circle_iris_operation.py\u001b[0m in \u001b[0;36m<module>\u001b[0;34m\u001b[0m\n\u001b[0;32m----> 1\u001b[0;31m \u001b[0;32mimport\u001b[0m \u001b[0mcv2\u001b[0m\u001b[0;34m\u001b[0m\u001b[0;34m\u001b[0m\u001b[0m\n\u001b[0m\u001b[1;32m      2\u001b[0m \u001b[0;32mimport\u001b[0m \u001b[0mnumpy\u001b[0m \u001b[0;32mas\u001b[0m \u001b[0mnp\u001b[0m\u001b[0;34m\u001b[0m\u001b[0;34m\u001b[0m\u001b[0m\n\u001b[1;32m      3\u001b[0m \u001b[0;34m\u001b[0m\u001b[0m\n\u001b[1;32m      4\u001b[0m \u001b[0;32mdef\u001b[0m \u001b[0mauto_canny\u001b[0m\u001b[0;34m(\u001b[0m\u001b[0mimage\u001b[0m\u001b[0;34m,\u001b[0m \u001b[0msigma\u001b[0m\u001b[0;34m=\u001b[0m\u001b[0;36m0.33\u001b[0m\u001b[0;34m)\u001b[0m\u001b[0;34m:\u001b[0m\u001b[0;34m\u001b[0m\u001b[0;34m\u001b[0m\u001b[0m\n\u001b[1;32m      5\u001b[0m     \u001b[0;31m# compute the median of the single channel pixel intensities\u001b[0m\u001b[0;34m\u001b[0m\u001b[0;34m\u001b[0m\u001b[0m\n",
            "\u001b[0;31mModuleNotFoundError\u001b[0m: No module named 'cv2'"
          ]
        }
      ],
      "metadata": {
        "id": "cn-WwCzrBplr"
      }
    },
    {
      "cell_type": "code",
      "execution_count": null,
      "source": [
        "iris_name = G6_iris_recognition.iris_model_test(\"model.pickle\",\"images-tutorial/0002/0002_000.bmp\")\n",
        "print(iris_name!='unmatch')"
      ],
      "outputs": [],
      "metadata": {
        "id": "5rVUcS4FANXl"
      }
    },
    {
      "cell_type": "markdown",
      "source": [
        "# **EXERCÍCIO**\n",
        "\n",
        "*   Construir um treinamento no módulo G6 com duas íris de cada uma das cinco primeiras pessoas (0001 a 0004) (clonar https://github.com/lucianosilva-github/images.git)\n",
        "*   Verificar a qualidade do treinamento testando cada uma das íris usadas no treinamento\n",
        "\n"
      ],
      "metadata": {
        "id": "KOgyXhOzsrw5"
      }
    },
    {
      "cell_type": "code",
      "execution_count": null,
      "source": [
        "#seu código vai aqui"
      ],
      "outputs": [],
      "metadata": {
        "id": "_aMjKV1KtklA"
      }
    },
    {
      "cell_type": "markdown",
      "source": [
        "# **EXERCÍCIO**\n",
        "\n",
        "Será que a qualidade das imagens influencia na qualidade do treinamento ? Analise e experimente melhorar a qualidade das imagens usadas no exercício anterior, tendo como base as técnicas estudadas na disciplina até o momento."
      ],
      "metadata": {
        "id": "-bchKMRxtrJH"
      }
    },
    {
      "cell_type": "code",
      "execution_count": null,
      "source": [
        "#seu código vai aqui"
      ],
      "outputs": [],
      "metadata": {
        "id": "mSXAXFsnuEeX"
      }
    },
    {
      "cell_type": "markdown",
      "source": [
        "**PROJETO IRIS - DATA DE ENTREGA: 07/10/2020**\n",
        "\n",
        "\n",
        "*   Crie um modelo de treinamento usando a base de dados fornecida (60 pessoas com 20 íris cada ~ 1200 imagens). Durante o treinamento, você pode utilizar qualquer procedimento para melhorar a qualidade das imagens.\n",
        "*   Obtenha a matriz de confusão do seu modelo e analise os resultados\n",
        "\n",
        "**O que entregar:** notebook implementado em Python. \n",
        "\n",
        "\n"
      ],
      "metadata": {
        "id": "J9SPAQQvuXrV"
      }
    }
  ]
}